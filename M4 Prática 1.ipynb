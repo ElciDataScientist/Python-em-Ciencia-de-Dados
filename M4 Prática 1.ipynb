{
  "nbformat": 4,
  "nbformat_minor": 0,
  "metadata": {
    "colab": {
      "provenance": []
    },
    "kernelspec": {
      "name": "python3",
      "display_name": "Python 3"
    },
    "language_info": {
      "name": "python"
    }
  },
  "cells": [
    {
      "cell_type": "code",
      "source": [
        "import pandas as pd\n",
        "import numpy as np"
      ],
      "metadata": {
        "id": "fzG6XofK4dFf"
      },
      "execution_count": 2,
      "outputs": []
    },
    {
      "cell_type": "code",
      "execution_count": 3,
      "metadata": {
        "id": "tIYF4o0kohgW"
      },
      "outputs": [],
      "source": [
        "dados = {'ano': [1900, 1920, 1940, 1960, 1980, 2000, 2020],\n",
        "         'anomalia termica': [-0.08, -0.27, 0.12, -0.03, 0.26, 0.40, 1.02]}\n",
        "\n",
        "serie = pd.Series(dados)"
      ]
    },
    {
      "cell_type": "code",
      "source": [
        "dados = {'ano': [1900, 1920, 1940, 1960, 1980, 2000, 2020],\n",
        "         'anomalia termica': [-0.08, -0.27, 0.12, -0.03, 0.26, 0.40, 1.02]}\n",
        "\n",
        "df = pd.DataFrame(dados)\n",
        "serie = df.set_index('ano')['anomalia termica']"
      ],
      "metadata": {
        "id": "0z76wv2xo-lI"
      },
      "execution_count": 4,
      "outputs": []
    },
    {
      "cell_type": "code",
      "source": [
        "dic_temperaturas = {1900: -.08, 1920: -.27, 1940: .12, 1960: -.03, 1980: .26, 2000: .40, 2020: 1.02}\n",
        "\n",
        "serie = pd.Series(dic_temperaturas)"
      ],
      "metadata": {
        "id": "agLfKsDCpKuX"
      },
      "execution_count": 5,
      "outputs": []
    },
    {
      "cell_type": "code",
      "source": [
        "arr = np.random.normal(100, 10, (20,3))\n",
        "df = pd.DataFrame(arr)"
      ],
      "metadata": {
        "id": "PkCqibj5pYPA"
      },
      "execution_count": 6,
      "outputs": []
    },
    {
      "cell_type": "code",
      "source": [
        "arr = np.random.normal(100, 10, (20,3))\n",
        "df = pd.DataFrame(arr, columns=[\"x1\", \"x2\", \"x3\"], index=range(1, 21))"
      ],
      "metadata": {
        "id": "yTLY1klNpk4T"
      },
      "execution_count": 7,
      "outputs": []
    },
    {
      "cell_type": "code",
      "source": [
        "df[\"media\"] = df.mean(axis=1)"
      ],
      "metadata": {
        "id": "mAMWk8vupvUl"
      },
      "execution_count": 8,
      "outputs": []
    },
    {
      "cell_type": "code",
      "source": [
        "df['log_med'] = np.log(df['media'])"
      ],
      "metadata": {
        "id": "K7c8MpZSp6pq"
      },
      "execution_count": 9,
      "outputs": []
    }
  ]
}
{
  "nbformat": 4,
  "nbformat_minor": 0,
  "metadata": {
    "colab": {
      "provenance": []
    },
    "kernelspec": {
      "name": "python3",
      "display_name": "Python 3"
    },
    "language_info": {
      "name": "python"
    }
  },
  "cells": [
    {
      "cell_type": "code",
      "execution_count": 1,
      "metadata": {
        "id": "BKAi5DSyyYrh"
      },
      "outputs": [],
      "source": [
        "import numpy as np\n",
        "import pandas as pd\n",
        "import seaborn as sns\n",
        "import matplotlib.pyplot as plt"
      ]
    },
    {
      "cell_type": "code",
      "source": [
        "df = pd.read_csv('/content/demo01.csv')\n",
        "print(df.head())"
      ],
      "metadata": {
        "colab": {
          "base_uri": "https://localhost:8080/"
        },
        "id": "aorybWDS3qDq",
        "outputId": "3c835f76-84d4-4d17-99fc-8f09ab3f84ce"
      },
      "execution_count": 3,
      "outputs": [
        {
          "output_type": "stream",
          "name": "stdout",
          "text": [
            "  sexo posse_de_veiculo posse_de_imovel  qtd_filhos            tipo_renda  \\\n",
            "0    M                Y               Y           0               Working   \n",
            "1    F                N               Y           0  Commercial associate   \n",
            "2    F                N               Y           0  Commercial associate   \n",
            "3    M                Y               Y           0               Working   \n",
            "4    F                Y               N           0               Working   \n",
            "\n",
            "                        educacao          estado_civil    tipo_residencia  \\\n",
            "0  Secondary / secondary special               Married  House / apartment   \n",
            "1  Secondary / secondary special  Single / not married  House / apartment   \n",
            "2  Secondary / secondary special  Single / not married  House / apartment   \n",
            "3               Higher education               Married  House / apartment   \n",
            "4              Incomplete higher               Married  House / apartment   \n",
            "\n",
            "       idade  tempo_emprego  possui_celular  possui_fone_comercial  \\\n",
            "0  58.832877       3.106849               1                      0   \n",
            "1  52.356164       8.358904               1                      0   \n",
            "2  52.356164       8.358904               1                      0   \n",
            "3  46.224658       2.106849               1                      1   \n",
            "4  29.230137       3.021918               1                      0   \n",
            "\n",
            "   possui_fone  possui_email  qt_pessoas_residencia    mau  \n",
            "0            0             0                    2.0  False  \n",
            "1            1             1                    1.0  False  \n",
            "2            1             1                    1.0  False  \n",
            "3            1             1                    2.0  False  \n",
            "4            0             0                    2.0  False  \n"
          ]
        }
      ]
    },
    {
      "cell_type": "code",
      "source": [
        "df.info()"
      ],
      "metadata": {
        "colab": {
          "base_uri": "https://localhost:8080/"
        },
        "id": "J4f0BAxl7Nff",
        "outputId": "24299a2f-e14b-4932-d1c5-1b1d2cc0eda5"
      },
      "execution_count": 4,
      "outputs": [
        {
          "output_type": "stream",
          "name": "stdout",
          "text": [
            "<class 'pandas.core.frame.DataFrame'>\n",
            "RangeIndex: 16650 entries, 0 to 16649\n",
            "Data columns (total 16 columns):\n",
            " #   Column                 Non-Null Count  Dtype  \n",
            "---  ------                 --------------  -----  \n",
            " 0   sexo                   16650 non-null  object \n",
            " 1   posse_de_veiculo       16650 non-null  object \n",
            " 2   posse_de_imovel        16650 non-null  object \n",
            " 3   qtd_filhos             16650 non-null  int64  \n",
            " 4   tipo_renda             16650 non-null  object \n",
            " 5   educacao               16650 non-null  object \n",
            " 6   estado_civil           16650 non-null  object \n",
            " 7   tipo_residencia        16650 non-null  object \n",
            " 8   idade                  16650 non-null  float64\n",
            " 9   tempo_emprego          16650 non-null  float64\n",
            " 10  possui_celular         16650 non-null  int64  \n",
            " 11  possui_fone_comercial  16650 non-null  int64  \n",
            " 12  possui_fone            16650 non-null  int64  \n",
            " 13  possui_email           16650 non-null  int64  \n",
            " 14  qt_pessoas_residencia  16650 non-null  float64\n",
            " 15  mau                    16650 non-null  bool   \n",
            "dtypes: bool(1), float64(3), int64(5), object(7)\n",
            "memory usage: 1.9+ MB\n"
          ]
        }
      ]
    },
    {
      "cell_type": "code",
      "source": [
        "dtypes = df.dtypes\n",
        "print(dtypes)"
      ],
      "metadata": {
        "colab": {
          "base_uri": "https://localhost:8080/"
        },
        "id": "P1u3aLNh4lHy",
        "outputId": "20acd4c2-923e-4c90-a43e-4086847fbdec"
      },
      "execution_count": 5,
      "outputs": [
        {
          "output_type": "stream",
          "name": "stdout",
          "text": [
            "sexo                      object\n",
            "posse_de_veiculo          object\n",
            "posse_de_imovel           object\n",
            "qtd_filhos                 int64\n",
            "tipo_renda                object\n",
            "educacao                  object\n",
            "estado_civil              object\n",
            "tipo_residencia           object\n",
            "idade                    float64\n",
            "tempo_emprego            float64\n",
            "possui_celular             int64\n",
            "possui_fone_comercial      int64\n",
            "possui_fone                int64\n",
            "possui_email               int64\n",
            "qt_pessoas_residencia    float64\n",
            "mau                         bool\n",
            "dtype: object\n"
          ]
        }
      ]
    },
    {
      "cell_type": "code",
      "source": [
        "df.isna().sum()"
      ],
      "metadata": {
        "colab": {
          "base_uri": "https://localhost:8080/",
          "height": 586
        },
        "id": "_VGcvfD06xUy",
        "outputId": "91122474-9273-42ba-94f8-57b0f6480a9b"
      },
      "execution_count": 6,
      "outputs": [
        {
          "output_type": "execute_result",
          "data": {
            "text/plain": [
              "sexo                     0\n",
              "posse_de_veiculo         0\n",
              "posse_de_imovel          0\n",
              "qtd_filhos               0\n",
              "tipo_renda               0\n",
              "educacao                 0\n",
              "estado_civil             0\n",
              "tipo_residencia          0\n",
              "idade                    0\n",
              "tempo_emprego            0\n",
              "possui_celular           0\n",
              "possui_fone_comercial    0\n",
              "possui_fone              0\n",
              "possui_email             0\n",
              "qt_pessoas_residencia    0\n",
              "mau                      0\n",
              "dtype: int64"
            ],
            "text/html": [
              "<div>\n",
              "<style scoped>\n",
              "    .dataframe tbody tr th:only-of-type {\n",
              "        vertical-align: middle;\n",
              "    }\n",
              "\n",
              "    .dataframe tbody tr th {\n",
              "        vertical-align: top;\n",
              "    }\n",
              "\n",
              "    .dataframe thead th {\n",
              "        text-align: right;\n",
              "    }\n",
              "</style>\n",
              "<table border=\"1\" class=\"dataframe\">\n",
              "  <thead>\n",
              "    <tr style=\"text-align: right;\">\n",
              "      <th></th>\n",
              "      <th>0</th>\n",
              "    </tr>\n",
              "  </thead>\n",
              "  <tbody>\n",
              "    <tr>\n",
              "      <th>sexo</th>\n",
              "      <td>0</td>\n",
              "    </tr>\n",
              "    <tr>\n",
              "      <th>posse_de_veiculo</th>\n",
              "      <td>0</td>\n",
              "    </tr>\n",
              "    <tr>\n",
              "      <th>posse_de_imovel</th>\n",
              "      <td>0</td>\n",
              "    </tr>\n",
              "    <tr>\n",
              "      <th>qtd_filhos</th>\n",
              "      <td>0</td>\n",
              "    </tr>\n",
              "    <tr>\n",
              "      <th>tipo_renda</th>\n",
              "      <td>0</td>\n",
              "    </tr>\n",
              "    <tr>\n",
              "      <th>educacao</th>\n",
              "      <td>0</td>\n",
              "    </tr>\n",
              "    <tr>\n",
              "      <th>estado_civil</th>\n",
              "      <td>0</td>\n",
              "    </tr>\n",
              "    <tr>\n",
              "      <th>tipo_residencia</th>\n",
              "      <td>0</td>\n",
              "    </tr>\n",
              "    <tr>\n",
              "      <th>idade</th>\n",
              "      <td>0</td>\n",
              "    </tr>\n",
              "    <tr>\n",
              "      <th>tempo_emprego</th>\n",
              "      <td>0</td>\n",
              "    </tr>\n",
              "    <tr>\n",
              "      <th>possui_celular</th>\n",
              "      <td>0</td>\n",
              "    </tr>\n",
              "    <tr>\n",
              "      <th>possui_fone_comercial</th>\n",
              "      <td>0</td>\n",
              "    </tr>\n",
              "    <tr>\n",
              "      <th>possui_fone</th>\n",
              "      <td>0</td>\n",
              "    </tr>\n",
              "    <tr>\n",
              "      <th>possui_email</th>\n",
              "      <td>0</td>\n",
              "    </tr>\n",
              "    <tr>\n",
              "      <th>qt_pessoas_residencia</th>\n",
              "      <td>0</td>\n",
              "    </tr>\n",
              "    <tr>\n",
              "      <th>mau</th>\n",
              "      <td>0</td>\n",
              "    </tr>\n",
              "  </tbody>\n",
              "</table>\n",
              "</div><br><label><b>dtype:</b> int64</label>"
            ]
          },
          "metadata": {},
          "execution_count": 6
        }
      ]
    },
    {
      "cell_type": "code",
      "source": [
        "percentage = (df.isnull().sum() / len(df)) * 100\n",
        "percentage"
      ],
      "metadata": {
        "colab": {
          "base_uri": "https://localhost:8080/",
          "height": 586
        },
        "id": "SjzGVEsl7nwM",
        "outputId": "29adc7f0-80d3-446a-effb-f8e73b976a48"
      },
      "execution_count": 7,
      "outputs": [
        {
          "output_type": "execute_result",
          "data": {
            "text/plain": [
              "sexo                     0.0\n",
              "posse_de_veiculo         0.0\n",
              "posse_de_imovel          0.0\n",
              "qtd_filhos               0.0\n",
              "tipo_renda               0.0\n",
              "educacao                 0.0\n",
              "estado_civil             0.0\n",
              "tipo_residencia          0.0\n",
              "idade                    0.0\n",
              "tempo_emprego            0.0\n",
              "possui_celular           0.0\n",
              "possui_fone_comercial    0.0\n",
              "possui_fone              0.0\n",
              "possui_email             0.0\n",
              "qt_pessoas_residencia    0.0\n",
              "mau                      0.0\n",
              "dtype: float64"
            ],
            "text/html": [
              "<div>\n",
              "<style scoped>\n",
              "    .dataframe tbody tr th:only-of-type {\n",
              "        vertical-align: middle;\n",
              "    }\n",
              "\n",
              "    .dataframe tbody tr th {\n",
              "        vertical-align: top;\n",
              "    }\n",
              "\n",
              "    .dataframe thead th {\n",
              "        text-align: right;\n",
              "    }\n",
              "</style>\n",
              "<table border=\"1\" class=\"dataframe\">\n",
              "  <thead>\n",
              "    <tr style=\"text-align: right;\">\n",
              "      <th></th>\n",
              "      <th>0</th>\n",
              "    </tr>\n",
              "  </thead>\n",
              "  <tbody>\n",
              "    <tr>\n",
              "      <th>sexo</th>\n",
              "      <td>0.0</td>\n",
              "    </tr>\n",
              "    <tr>\n",
              "      <th>posse_de_veiculo</th>\n",
              "      <td>0.0</td>\n",
              "    </tr>\n",
              "    <tr>\n",
              "      <th>posse_de_imovel</th>\n",
              "      <td>0.0</td>\n",
              "    </tr>\n",
              "    <tr>\n",
              "      <th>qtd_filhos</th>\n",
              "      <td>0.0</td>\n",
              "    </tr>\n",
              "    <tr>\n",
              "      <th>tipo_renda</th>\n",
              "      <td>0.0</td>\n",
              "    </tr>\n",
              "    <tr>\n",
              "      <th>educacao</th>\n",
              "      <td>0.0</td>\n",
              "    </tr>\n",
              "    <tr>\n",
              "      <th>estado_civil</th>\n",
              "      <td>0.0</td>\n",
              "    </tr>\n",
              "    <tr>\n",
              "      <th>tipo_residencia</th>\n",
              "      <td>0.0</td>\n",
              "    </tr>\n",
              "    <tr>\n",
              "      <th>idade</th>\n",
              "      <td>0.0</td>\n",
              "    </tr>\n",
              "    <tr>\n",
              "      <th>tempo_emprego</th>\n",
              "      <td>0.0</td>\n",
              "    </tr>\n",
              "    <tr>\n",
              "      <th>possui_celular</th>\n",
              "      <td>0.0</td>\n",
              "    </tr>\n",
              "    <tr>\n",
              "      <th>possui_fone_comercial</th>\n",
              "      <td>0.0</td>\n",
              "    </tr>\n",
              "    <tr>\n",
              "      <th>possui_fone</th>\n",
              "      <td>0.0</td>\n",
              "    </tr>\n",
              "    <tr>\n",
              "      <th>possui_email</th>\n",
              "      <td>0.0</td>\n",
              "    </tr>\n",
              "    <tr>\n",
              "      <th>qt_pessoas_residencia</th>\n",
              "      <td>0.0</td>\n",
              "    </tr>\n",
              "    <tr>\n",
              "      <th>mau</th>\n",
              "      <td>0.0</td>\n",
              "    </tr>\n",
              "  </tbody>\n",
              "</table>\n",
              "</div><br><label><b>dtype:</b> float64</label>"
            ]
          },
          "metadata": {},
          "execution_count": 7
        }
      ]
    },
    {
      "cell_type": "code",
      "source": [
        "titanic_sem_na = df.dropna(axis=1)"
      ],
      "metadata": {
        "id": "6NLyodyw7t_H"
      },
      "execution_count": 8,
      "outputs": []
    },
    {
      "cell_type": "code",
      "source": [
        "data = {\n",
        "    'Nome da Variável': [\n",
        "        'ID', 'CODE_GENDER', 'FLAG_OWN_CAR', 'FLAG_OWN_REALTY', 'CNT_CHILDREN',\n",
        "        'AMT_INCOME_TOTAL', 'NAME_INCOME_TYPE', 'NAME_EDUCATION_TYPE',\n",
        "        'NAME_FAMILY_STATUS', 'NAME_HOUSING_TYPE', 'DAYS_BIRTH', 'DAYS_EMPLOYED',\n",
        "        'FLAG_MOBIL', 'FLAG_WORK_PHONE', 'FLAG_PHONE', 'FLAG_EMAIL', 'OCCUPATION_TYPE',\n",
        "        'CNT_FAM_MEMBERS'\n",
        "    ],\n",
        "    'Tipo de Dado': [\n",
        "        'int64', 'object', 'object', 'object', 'int64',\n",
        "        'float64', 'object', 'object', 'object', 'object',\n",
        "        'int64', 'int64', 'int64', 'int64', 'int64',\n",
        "        'int64', 'object', 'float64'\n",
        "    ]\n",
        "}"
      ],
      "metadata": {
        "id": "Oib1ppHV9OeW"
      },
      "execution_count": 9,
      "outputs": []
    },
    {
      "cell_type": "code",
      "source": [
        "df_info = pd.DataFrame(data)"
      ],
      "metadata": {
        "id": "1SiXezCZ9r55"
      },
      "execution_count": 10,
      "outputs": []
    },
    {
      "cell_type": "code",
      "source": [
        "df = pd.DataFrame({\n",
        "    'ID': [1, 2, 3, 4],\n",
        "    'CODE_GENDER': ['F', 'M', 'F', 'M'],\n",
        "    'FLAG_OWN_CAR': ['N', 'Y', 'N', 'Y'],\n",
        "    'FLAG_OWN_REALTY': ['Y', 'Y', 'N', 'Y'],\n",
        "    'CNT_CHILDREN': [0, 1, 2, 0],\n",
        "    'AMT_INCOME_TOTAL': [50000, 60000, 70000, 80000],\n",
        "    'NAME_INCOME_TYPE': ['Working', 'Working', 'Working', 'Pensioner'],\n",
        "    'NAME_EDUCATION_TYPE': ['Secondary', 'Higher', 'Higher', 'Secondary'],\n",
        "    'NAME_FAMILY_STATUS': ['Single', 'Married', 'Single', 'Married'],\n",
        "    'NAME_HOUSING_TYPE': ['House', 'Apartment', 'House', 'Apartment'],\n",
        "    'DAYS_BIRTH': [-10000, -12000, -15000, -18000],\n",
        "    'DAYS_EMPLOYED': [-2000, -3000, -4000, -5000],\n",
        "    'FLAG_MOBIL': [1, 1, 1, 1],\n",
        "    'FLAG_WORK_PHONE': [1, 1, 0, 0],\n",
        "    'FLAG_PHONE': [1, 1, 1, 1],\n",
        "    'FLAG_EMAIL': [1, 0, 1, 1],\n",
        "    'OCCUPATION_TYPE': ['Laborers', 'Managers', 'Laborers', 'Sales'],\n",
        "    'CNT_FAM_MEMBERS': [1, 2, 3, 2]\n",
        "})"
      ],
      "metadata": {
        "id": "6P5jPRr89s7L"
      },
      "execution_count": 11,
      "outputs": []
    },
    {
      "cell_type": "code",
      "source": [
        "def calcular_qtd_categorias(nome_variavel):\n",
        "    tipo_dado = df_info.loc[df_info['Nome da Variável'] == nome_variavel, 'Tipo de Dado'].values[0]\n",
        "    if tipo_dado == 'object':\n",
        "        return df[nome_variavel].nunique()\n",
        "    return 0\n",
        "\n",
        "df_info['qtd_categorias'] = df_info['Nome da Variável'].apply(calcular_qtd_categorias)\n",
        "\n",
        "print(\"DataFrame com Nomes, Tipos de Dados e Quantidade de Categorias:\")\n",
        "print(df_info)"
      ],
      "metadata": {
        "colab": {
          "base_uri": "https://localhost:8080/"
        },
        "id": "tmaQtkg090nW",
        "outputId": "0ddc8612-b2c6-4bee-a491-88cc1e520fc8"
      },
      "execution_count": 12,
      "outputs": [
        {
          "output_type": "stream",
          "name": "stdout",
          "text": [
            "DataFrame com Nomes, Tipos de Dados e Quantidade de Categorias:\n",
            "       Nome da Variável Tipo de Dado  qtd_categorias\n",
            "0                    ID        int64               0\n",
            "1           CODE_GENDER       object               2\n",
            "2          FLAG_OWN_CAR       object               2\n",
            "3       FLAG_OWN_REALTY       object               2\n",
            "4          CNT_CHILDREN        int64               0\n",
            "5      AMT_INCOME_TOTAL      float64               0\n",
            "6      NAME_INCOME_TYPE       object               2\n",
            "7   NAME_EDUCATION_TYPE       object               2\n",
            "8    NAME_FAMILY_STATUS       object               2\n",
            "9     NAME_HOUSING_TYPE       object               2\n",
            "10           DAYS_BIRTH        int64               0\n",
            "11        DAYS_EMPLOYED        int64               0\n",
            "12           FLAG_MOBIL        int64               0\n",
            "13      FLAG_WORK_PHONE        int64               0\n",
            "14           FLAG_PHONE        int64               0\n",
            "15           FLAG_EMAIL        int64               0\n",
            "16      OCCUPATION_TYPE       object               3\n",
            "17      CNT_FAM_MEMBERS      float64               0\n"
          ]
        }
      ]
    },
    {
      "cell_type": "code",
      "source": [
        "df_dummies = pd.get_dummies(df, columns=[\n",
        "    'CODE_GENDER', 'FLAG_OWN_CAR', 'FLAG_OWN_REALTY',\n",
        "    'NAME_INCOME_TYPE', 'NAME_EDUCATION_TYPE',\n",
        "    'NAME_FAMILY_STATUS', 'NAME_HOUSING_TYPE', 'OCCUPATION_TYPE'\n",
        "])"
      ],
      "metadata": {
        "id": "zQFbTPqv_FOV"
      },
      "execution_count": 13,
      "outputs": []
    },
    {
      "cell_type": "code",
      "source": [
        "df_ml_ready = df_dummies.copy()\n",
        "\n",
        "print(\"DataFrame preparado para entrada no Scikit-learn:\")\n",
        "print(df_ml_ready)"
      ],
      "metadata": {
        "colab": {
          "base_uri": "https://localhost:8080/"
        },
        "id": "T2FZvsZ8_Juw",
        "outputId": "87f11975-660b-4b12-e10c-e95786164f5f"
      },
      "execution_count": 14,
      "outputs": [
        {
          "output_type": "stream",
          "name": "stdout",
          "text": [
            "DataFrame preparado para entrada no Scikit-learn:\n",
            "   ID  CNT_CHILDREN  AMT_INCOME_TOTAL  DAYS_BIRTH  DAYS_EMPLOYED  FLAG_MOBIL  \\\n",
            "0   1             0             50000      -10000          -2000           1   \n",
            "1   2             1             60000      -12000          -3000           1   \n",
            "2   3             2             70000      -15000          -4000           1   \n",
            "3   4             0             80000      -18000          -5000           1   \n",
            "\n",
            "   FLAG_WORK_PHONE  FLAG_PHONE  FLAG_EMAIL  CNT_FAM_MEMBERS  ...  \\\n",
            "0                1           1           1                1  ...   \n",
            "1                1           1           0                2  ...   \n",
            "2                0           1           1                3  ...   \n",
            "3                0           1           1                2  ...   \n",
            "\n",
            "   NAME_INCOME_TYPE_Working  NAME_EDUCATION_TYPE_Higher  \\\n",
            "0                      True                       False   \n",
            "1                      True                        True   \n",
            "2                      True                        True   \n",
            "3                     False                       False   \n",
            "\n",
            "   NAME_EDUCATION_TYPE_Secondary  NAME_FAMILY_STATUS_Married  \\\n",
            "0                           True                       False   \n",
            "1                          False                        True   \n",
            "2                          False                       False   \n",
            "3                           True                        True   \n",
            "\n",
            "   NAME_FAMILY_STATUS_Single  NAME_HOUSING_TYPE_Apartment  \\\n",
            "0                       True                        False   \n",
            "1                      False                         True   \n",
            "2                       True                        False   \n",
            "3                      False                         True   \n",
            "\n",
            "   NAME_HOUSING_TYPE_House  OCCUPATION_TYPE_Laborers  \\\n",
            "0                     True                      True   \n",
            "1                    False                     False   \n",
            "2                     True                      True   \n",
            "3                    False                     False   \n",
            "\n",
            "   OCCUPATION_TYPE_Managers  OCCUPATION_TYPE_Sales  \n",
            "0                     False                  False  \n",
            "1                      True                  False  \n",
            "2                     False                  False  \n",
            "3                     False                   True  \n",
            "\n",
            "[4 rows x 27 columns]\n"
          ]
        }
      ]
    },
    {
      "cell_type": "code",
      "source": [
        "df = pd.DataFrame({\n",
        "    'possui_email': [1, 0, 1, 0, 1, 0, 1, 0],\n",
        "    'posse_de_veiculo': [1, 1, 0, 0, 1, 0, 0, 1],\n",
        "    'mau': [0, 1, 0, 1, 0, 1, 1, 0]\n",
        "})"
      ],
      "metadata": {
        "id": "MnbjLaA4_eXb"
      },
      "execution_count": 15,
      "outputs": []
    },
    {
      "cell_type": "code",
      "source": [
        "tabela_cruzada_email = pd.crosstab(df['possui_email'], df['mau'], rownames=['possui_email'], colnames=['mau'])\n",
        "tabela_cruzada_veiculo = pd.crosstab(df['posse_de_veiculo'], df['mau'], rownames=['posse_de_veiculo'], colnames=['mau'])"
      ],
      "metadata": {
        "id": "wqdOMaX1_sj4"
      },
      "execution_count": 16,
      "outputs": []
    },
    {
      "cell_type": "code",
      "source": [
        "taxa_email = tabela_cruzada_email[1] / tabela_cruzada_email.sum(axis=1)\n",
        "taxa_veiculo = tabela_cruzada_veiculo[1] / tabela_cruzada_veiculo.sum(axis=1)\n",
        "\n",
        "print(\"Tabela Cruzada entre 'possui_email' e 'mau':\")\n",
        "print(tabela_cruzada_email)\n",
        "print(\"\\nTaxa de 'mau = 1' por 'possui_email':\")\n",
        "print(taxa_email)\n",
        "\n",
        "print(\"\\nTabela Cruzada entre 'posse_de_veiculo' e 'mau':\")\n",
        "print(tabela_cruzada_veiculo)\n",
        "print(\"\\nTaxa de 'mau = 1' por 'posse_de_veiculo':\")\n",
        "print(taxa_veiculo)"
      ],
      "metadata": {
        "colab": {
          "base_uri": "https://localhost:8080/"
        },
        "id": "uDwq4zbp_v3h",
        "outputId": "4c7c6c95-0e4e-4dae-b3fe-6c5258b57e80"
      },
      "execution_count": 17,
      "outputs": [
        {
          "output_type": "stream",
          "name": "stdout",
          "text": [
            "Tabela Cruzada entre 'possui_email' e 'mau':\n",
            "mau           0  1\n",
            "possui_email      \n",
            "0             1  3\n",
            "1             3  1\n",
            "\n",
            "Taxa de 'mau = 1' por 'possui_email':\n",
            "possui_email\n",
            "0    0.75\n",
            "1    0.25\n",
            "dtype: float64\n",
            "\n",
            "Tabela Cruzada entre 'posse_de_veiculo' e 'mau':\n",
            "mau               0  1\n",
            "posse_de_veiculo      \n",
            "0                 1  3\n",
            "1                 3  1\n",
            "\n",
            "Taxa de 'mau = 1' por 'posse_de_veiculo':\n",
            "posse_de_veiculo\n",
            "0    0.75\n",
            "1    0.25\n",
            "dtype: float64\n"
          ]
        }
      ]
    }
  ]
}